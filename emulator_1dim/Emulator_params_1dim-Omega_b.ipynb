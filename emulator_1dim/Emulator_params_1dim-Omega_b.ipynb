{
 "cells": [
  {
   "cell_type": "code",
   "execution_count": 15,
   "id": "21582fa6",
   "metadata": {},
   "outputs": [],
   "source": [
    "import numpy as np\n",
    "import sys\n",
    "import pyDOE as pyDOE\n",
    "import corner\n",
    "from sympy import symbols, Eq"
   ]
  },
  {
   "cell_type": "code",
   "execution_count": 16,
   "id": "7515f41f",
   "metadata": {},
   "outputs": [],
   "source": [
    "# Parameters\n",
    "n_params = 1\n",
    "n_samples = 5000\n",
    "\n",
    "# parameter ranges:\n",
    "ombh2 = np.linspace(0.0180, 0.0250, n_samples)"
   ]
  },
  {
   "cell_type": "code",
   "execution_count": 17,
   "id": "89a8d0d4",
   "metadata": {},
   "outputs": [
    {
     "name": "stdout",
     "output_type": "stream",
     "text": [
      "(5000, 1)\n",
      "(1, 5000)\n",
      "<class 'numpy.ndarray'>\n"
     ]
    }
   ],
   "source": [
    "# LHS Grid\n",
    "AllParams = np.vstack([ombh2])\n",
    "lhd = pyDOE.lhs(n_params, samples=n_samples, criterion=None)         # np.array,scales all the variable ranges from zero to one\n",
    "index = (lhd*n_samples).astype(int)                                  #array of random indices, size of n_samples\n",
    "\n",
    "AllCombs = np.zeros((n_samples, n_params))\n",
    "AllCombs[:, 0] = AllParams[0][index[:, 0]]              \n",
    "    \n",
    "print(np.shape(AllCombs))\n",
    "print(np.shape(AllParams))\n",
    "print(type(AllParams))"
   ]
  },
  {
   "cell_type": "code",
   "execution_count": 18,
   "id": "29cf86a9",
   "metadata": {},
   "outputs": [],
   "source": [
    "params = {'omega_b': AllCombs[:, 0],\n",
    "         }"
   ]
  },
  {
   "cell_type": "code",
   "execution_count": 19,
   "id": "0ab1646a",
   "metadata": {},
   "outputs": [
    {
     "name": "stdout",
     "output_type": "stream",
     "text": [
      "(5000,)\n"
     ]
    }
   ],
   "source": [
    "print(np.shape(params['omega_b']))"
   ]
  },
  {
   "cell_type": "code",
   "execution_count": 20,
   "id": "37c03d28",
   "metadata": {},
   "outputs": [
    {
     "data": {
      "text/plain": [
       "dict"
      ]
     },
     "execution_count": 20,
     "metadata": {},
     "output_type": "execute_result"
    }
   ],
   "source": [
    "type(params)"
   ]
  },
  {
   "cell_type": "code",
   "execution_count": 23,
   "id": "eb71cf9a",
   "metadata": {},
   "outputs": [],
   "source": [
    "np.savez('LHS_params_1dim5000_omega_b.npz', **params)               # Save several arrays into a single file in uncompressed .npz format."
   ]
  },
  {
   "cell_type": "code",
   "execution_count": 24,
   "id": "fcf9f1ae",
   "metadata": {},
   "outputs": [
    {
     "name": "stdout",
     "output_type": "stream",
     "text": [
      "[0.01952771 0.0204841  0.02027546 ... 0.01916223 0.02155111 0.0209994 ]\n",
      "(5000,)\n"
     ]
    }
   ],
   "source": [
    "print(params['omega_b'])\n",
    "print(np.shape(params['omega_b']))"
   ]
  }
 ],
 "metadata": {
  "kernelspec": {
   "display_name": "Python 3 (ipykernel)",
   "language": "python",
   "name": "python3"
  },
  "language_info": {
   "codemirror_mode": {
    "name": "ipython",
    "version": 3
   },
   "file_extension": ".py",
   "mimetype": "text/x-python",
   "name": "python",
   "nbconvert_exporter": "python",
   "pygments_lexer": "ipython3",
   "version": "3.9.6"
  }
 },
 "nbformat": 4,
 "nbformat_minor": 5
}
