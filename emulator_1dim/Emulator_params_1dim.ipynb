{
 "cells": [
  {
   "cell_type": "code",
   "execution_count": 1,
   "id": "21582fa6",
   "metadata": {},
   "outputs": [],
   "source": [
    "import numpy as np\n",
    "import sys\n",
    "import pyDOE as pyDOE\n",
    "import corner\n",
    "from sympy import symbols, Eq"
   ]
  },
  {
   "cell_type": "code",
   "execution_count": 2,
   "id": "7515f41f",
   "metadata": {},
   "outputs": [],
   "source": [
    "# Parameters\n",
    "n_params = 1\n",
    "n_samples = 5000\n",
    "\n",
    "# parameter ranges:\n",
    "h = np.linspace(0.64, 0.80, n_samples)\n",
    "#ombh2 = np.linspace(0.0150, 0.0350, n_samples)\n",
    "#omch2 = np.linspace(0.050, 0.250, n_samples)\n",
    "#ns = np.linspace(0.6, 1.1, n_samples)\n",
    "#z = np.linspace(0.0, 100.0, n_samples)\n",
    "#lnAs = np.linspace(0.5, 1.0, n_samples)                  # setting As, e.g: pars.InitPower.set_params(As=2e-9, ns=0.965)\n",
    "#w = np.linspace(-1.0, 1.0,  n_samples)                   # eqn of state parameter\n",
    "#omnuh2 = np.linspace(, n_samples)\n",
    "#N_eff =  np.linspace(1.00, 3.00,  n_samples)"
   ]
  },
  {
   "cell_type": "code",
   "execution_count": 3,
   "id": "89a8d0d4",
   "metadata": {},
   "outputs": [
    {
     "name": "stdout",
     "output_type": "stream",
     "text": [
      "(5000, 1)\n",
      "(1, 5000)\n",
      "<class 'numpy.ndarray'>\n"
     ]
    }
   ],
   "source": [
    "# LHS Grid\n",
    "AllParams = np.vstack([h])\n",
    "lhd = pyDOE.lhs(n_params, samples=n_samples, criterion=None)\n",
    "index = (lhd*n_samples).astype(int)\n",
    "\n",
    "AllCombs = np.zeros((n_samples, n_params))\n",
    "AllCombs[:, 0] = AllParams[0][index[:, 0]]\n",
    "    \n",
    "print(np.shape(AllCombs))\n",
    "print(np.shape(AllParams))\n",
    "print(type(AllParams))"
   ]
  },
  {
   "cell_type": "code",
   "execution_count": 4,
   "id": "29cf86a9",
   "metadata": {},
   "outputs": [],
   "source": [
    "params = {'h': AllCombs[:, 0],\n",
    "         }"
   ]
  },
  {
   "cell_type": "code",
   "execution_count": 5,
   "id": "0ab1646a",
   "metadata": {},
   "outputs": [
    {
     "name": "stdout",
     "output_type": "stream",
     "text": [
      "(5000,)\n"
     ]
    }
   ],
   "source": [
    "print(np.shape(params['h']))"
   ]
  },
  {
   "cell_type": "code",
   "execution_count": 10,
   "id": "37c03d28",
   "metadata": {},
   "outputs": [
    {
     "data": {
      "text/plain": [
       "dict"
      ]
     },
     "execution_count": 10,
     "metadata": {},
     "output_type": "execute_result"
    }
   ],
   "source": [
    "type(params)"
   ]
  },
  {
   "cell_type": "code",
   "execution_count": 11,
   "id": "eb71cf9a",
   "metadata": {},
   "outputs": [],
   "source": [
    "np.savez('LHS_params_1dim5000.npz', **params)               # Save several arrays into a single file in uncompressed .npz format."
   ]
  },
  {
   "cell_type": "code",
   "execution_count": 12,
   "id": "fcf9f1ae",
   "metadata": {},
   "outputs": [
    {
     "name": "stdout",
     "output_type": "stream",
     "text": [
      "[0.73560312 0.72072014 0.78854171 ... 0.79411082 0.79785557 0.72456091]\n",
      "(5000,)\n"
     ]
    }
   ],
   "source": [
    "print(params['h'])\n",
    "print(np.shape(params['h']))"
   ]
  },
  {
   "cell_type": "code",
   "execution_count": 9,
   "id": "3fd7bf0e",
   "metadata": {},
   "outputs": [
    {
     "name": "stdout",
     "output_type": "stream",
     "text": [
      "[[0.64       0.64003201 0.64006401 ... 0.79993599 0.79996799 0.8       ]]\n",
      "(1, 5000)\n",
      "(5000, 1)\n"
     ]
    }
   ],
   "source": [
    "print(AllParams)\n",
    "print(np.shape(AllParams))\n",
    "AllParams_tran = np.transpose(AllParams)\n",
    "print(np.shape(AllParams_tran))"
   ]
  },
  {
   "cell_type": "markdown",
   "id": "09b163b2",
   "metadata": {},
   "source": [
    "#Plot it.\n",
    "figure = corner.corner(AllParams_tran, labels=[r\"$h$\"],\n",
    "                       quantiles=[0.16, 0.5, 0.84],\n",
    "                       show_titles=True, title_kwargs={\"fontsize\": 12})"
   ]
  }
 ],
 "metadata": {
  "kernelspec": {
   "display_name": "Python 3 (ipykernel)",
   "language": "python",
   "name": "python3"
  },
  "language_info": {
   "codemirror_mode": {
    "name": "ipython",
    "version": 3
   },
   "file_extension": ".py",
   "mimetype": "text/x-python",
   "name": "python",
   "nbconvert_exporter": "python",
   "pygments_lexer": "ipython3",
   "version": "3.9.6"
  }
 },
 "nbformat": 4,
 "nbformat_minor": 5
}
