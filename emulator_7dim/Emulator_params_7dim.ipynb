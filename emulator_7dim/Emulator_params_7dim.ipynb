{
 "cells": [
  {
   "cell_type": "code",
   "execution_count": 1,
   "id": "21582fa6",
   "metadata": {},
   "outputs": [],
   "source": [
    "import numpy as np\n",
    "import sys\n",
    "import pyDOE as pyDOE\n",
    "import corner\n",
    "from sympy import symbols, Eq"
   ]
  },
  {
   "cell_type": "code",
   "execution_count": 2,
   "id": "7515f41f",
   "metadata": {},
   "outputs": [],
   "source": [
    "# Parameters\n",
    "n_params = 7\n",
    "n_samples = 1400\n",
    "\n",
    "# parameter ranges:\n",
    "h = np.linspace(0.62, 0.78, n_samples)\n",
    "ombh2 = np.linspace(0.0180, 0.0250, n_samples)\n",
    "omch2 = np.linspace(0.050, 0.250, n_samples)\n",
    "ns = np.linspace(0.88, 1.06, n_samples)\n",
    "z = np.linspace(0.0, 8.0, n_samples)\n",
    "lnAs = np.linspace(2.60, 3.90, n_samples)                  # ln(10^{10}As)\n",
    "w = np.linspace(-1.5, -0.6, n_samples)                   # eqn of state parameter\n",
    "#omnuh2 = np.linspace(, n_samples)\n",
    "#N_eff =  np.linspace(1.00, 3.00,  n_samples)"
   ]
  },
  {
   "cell_type": "markdown",
   "id": "5411f8bd",
   "metadata": {},
   "source": [
    "%%time\n",
    "for i in range(2000):\n",
    "    m = np.exp(2.99+i/100)/(10**10)\n",
    "    i +=1\n",
    "    print(m)"
   ]
  },
  {
   "cell_type": "code",
   "execution_count": 4,
   "id": "89a8d0d4",
   "metadata": {},
   "outputs": [
    {
     "name": "stdout",
     "output_type": "stream",
     "text": [
      "(1400, 7)\n",
      "(7, 1400)\n",
      "<class 'numpy.ndarray'>\n"
     ]
    }
   ],
   "source": [
    "# LHS Grid\n",
    "AllParams = np.vstack([h, ombh2, omch2, ns, z, lnAs, w])\n",
    "lhd = pyDOE.lhs(n_params, samples=n_samples, criterion=None)\n",
    "index = (lhd*n_samples).astype(int)\n",
    "\n",
    "AllCombs = np.zeros((n_samples, n_params))\n",
    "for i in range(n_params):\n",
    "    AllCombs[:, i] = AllParams[i][index[:, i]]\n",
    "    \n",
    "print(np.shape(AllCombs))\n",
    "print(np.shape(AllParams))\n",
    "print(type(AllParams))"
   ]
  },
  {
   "cell_type": "code",
   "execution_count": 5,
   "id": "29cf86a9",
   "metadata": {},
   "outputs": [],
   "source": [
    "params = {'h': AllCombs[:, 0],\n",
    "          'omega_b': AllCombs[:, 1],\n",
    "          'omega_cdm': AllCombs[:, 2],\n",
    "          'ns': AllCombs[:, 3],\n",
    "          'z': AllCombs[:, 4],\n",
    "          'lnAs': AllCombs[:, 5],\n",
    "          'w': AllCombs[:, 6],\n",
    "}"
   ]
  },
  {
   "cell_type": "code",
   "execution_count": 6,
   "id": "0ab1646a",
   "metadata": {},
   "outputs": [
    {
     "name": "stdout",
     "output_type": "stream",
     "text": [
      "(1400,)\n"
     ]
    }
   ],
   "source": [
    "print(np.shape(params['h']))"
   ]
  },
  {
   "cell_type": "code",
   "execution_count": 7,
   "id": "38a0d53f",
   "metadata": {},
   "outputs": [
    {
     "data": {
      "text/plain": [
       "9800"
      ]
     },
     "execution_count": 7,
     "metadata": {},
     "output_type": "execute_result"
    }
   ],
   "source": [
    "np.size(AllCombs)                                                                   # 'n_samples' pts for 'n_params' parameters"
   ]
  },
  {
   "cell_type": "code",
   "execution_count": 8,
   "id": "37c03d28",
   "metadata": {},
   "outputs": [
    {
     "data": {
      "text/plain": [
       "dict"
      ]
     },
     "execution_count": 8,
     "metadata": {},
     "output_type": "execute_result"
    }
   ],
   "source": [
    "type(params)"
   ]
  },
  {
   "cell_type": "code",
   "execution_count": 9,
   "id": "eb71cf9a",
   "metadata": {},
   "outputs": [],
   "source": [
    "np.savez('LHS_params_7dim.npz', **params)                  # Save several arrays into a single file in uncompressed .npz format."
   ]
  },
  {
   "cell_type": "code",
   "execution_count": 10,
   "id": "fcf9f1ae",
   "metadata": {},
   "outputs": [
    {
     "name": "stdout",
     "output_type": "stream",
     "text": [
      "[0.73436741 0.7487777  0.72761973 ... 0.77714081 0.63692638 0.63109364]\n",
      "[0.02260329 0.01803503 0.02054682 ... 0.02133738 0.02046176 0.02255826]\n",
      "[0.14292352 0.08502502 0.22955683 ... 0.16679771 0.07444603 0.22169407]\n",
      "[0.88926376 0.97418156 0.8940243  ... 1.05099357 0.95552538 0.92966405]\n",
      "[3.75696926 4.6147248  5.51822731 ... 3.31093638 0.11436741 5.79842745]\n",
      "[3.8340243  2.79328091 3.9        ... 3.60729092 2.69664046 3.51436741]\n",
      "[-1.48263045 -1.02330236 -0.6424589  ... -0.83738385 -1.26261615\n",
      " -0.68298785]\n",
      "(1400,)\n"
     ]
    }
   ],
   "source": [
    "print(params['h'])\n",
    "print(params['omega_b'])\n",
    "print(params['omega_cdm'])\n",
    "print(params['ns'])\n",
    "print(params['z'])\n",
    "print(params['lnAs'])\n",
    "print(params['w'])\n",
    "print(np.shape(params['h']))"
   ]
  },
  {
   "cell_type": "code",
   "execution_count": 11,
   "id": "3fd7bf0e",
   "metadata": {},
   "outputs": [
    {
     "name": "stdout",
     "output_type": "stream",
     "text": [
      "[[ 6.20000000e-01  6.20114367e-01  6.20228735e-01 ...  7.79771265e-01\n",
      "   7.79885633e-01  7.80000000e-01]\n",
      " [ 1.80000000e-02  1.80050036e-02  1.80100071e-02 ...  2.49899929e-02\n",
      "   2.49949964e-02  2.50000000e-02]\n",
      " [ 5.00000000e-02  5.01429593e-02  5.02859185e-02 ...  2.49714081e-01\n",
      "   2.49857041e-01  2.50000000e-01]\n",
      " ...\n",
      " [ 0.00000000e+00  5.71837026e-03  1.14367405e-02 ...  7.98856326e+00\n",
      "   7.99428163e+00  8.00000000e+00]\n",
      " [ 2.60000000e+00  2.60092924e+00  2.60185847e+00 ...  3.89814153e+00\n",
      "   3.89907076e+00  3.90000000e+00]\n",
      " [-1.50000000e+00 -1.49935668e+00 -1.49871337e+00 ... -6.01286633e-01\n",
      "  -6.00643317e-01 -6.00000000e-01]]\n",
      "(7, 1400)\n",
      "(1400, 7)\n"
     ]
    }
   ],
   "source": [
    "print(AllParams)\n",
    "print(np.shape(AllParams))\n",
    "AllParams_tran = np.transpose(AllParams)\n",
    "print(np.shape(AllParams_tran))"
   ]
  },
  {
   "cell_type": "code",
   "execution_count": 1,
   "id": "79bd04d2",
   "metadata": {},
   "outputs": [],
   "source": [
    "# figure = corner.corner(AllParams_tran, labels=[r\"$h$\", r\"$\\Omega_{\\mathrm{b}}$\", r\"$\\Omega_{\\mathrm{c}}$\", r\"$n_{s}$\", r\"$z$\", r\"$\\ln{(10^{10}A_{s})}$\", r\"$w$\" ],\n",
    "#                        quantiles=[0.16, 0.5, 0.84],\n",
    "#                        show_titles=True, title_kwargs={\"fontsize\": 12})"
   ]
  }
 ],
 "metadata": {
  "kernelspec": {
   "display_name": "Python 3 (ipykernel)",
   "language": "python",
   "name": "python3"
  },
  "language_info": {
   "codemirror_mode": {
    "name": "ipython",
    "version": 3
   },
   "file_extension": ".py",
   "mimetype": "text/x-python",
   "name": "python",
   "nbconvert_exporter": "python",
   "pygments_lexer": "ipython3",
   "version": "3.9.6"
  }
 },
 "nbformat": 4,
 "nbformat_minor": 5
}
