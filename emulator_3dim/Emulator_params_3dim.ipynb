{
 "cells": [
  {
   "cell_type": "code",
   "execution_count": 1,
   "id": "21582fa6",
   "metadata": {},
   "outputs": [],
   "source": [
    "import numpy as np\n",
    "import sys\n",
    "import pyDOE as pyDOE\n",
    "import corner\n",
    "from sympy import symbols, Eq"
   ]
  },
  {
   "cell_type": "code",
   "execution_count": 3,
   "id": "7515f41f",
   "metadata": {},
   "outputs": [],
   "source": [
    "# Parameters\n",
    "n_params = 3\n",
    "n_samples = 1400\n",
    "\n",
    "# parameter ranges:\n",
    "h = np.linspace(0.62, 0.78, n_samples)\n",
    "ombh2 = np.linspace(0.0180, 0.0250, n_samples)\n",
    "omch2 = np.linspace(0.050, 0.250, n_samples)\n",
    "#ns = np.linspace(0.6, 1.1, n_samples)\n",
    "#z = np.linspace(0.0, 100.0, n_samples)\n",
    "#lnAs = np.linspace(0.5, 1.0, n_samples)                  # setting As, e.g: pars.InitPower.set_params(As=2e-9, ns=0.965)\n",
    "#w = np.linspace(-1.0, 1.0,  n_samples)                   # eqn of state parameter\n",
    "#omnuh2 = np.linspace(, n_samples)\n",
    "#N_eff =  np.linspace(1.00, 3.00,  n_samples)"
   ]
  },
  {
   "cell_type": "code",
   "execution_count": 4,
   "id": "89a8d0d4",
   "metadata": {},
   "outputs": [
    {
     "name": "stdout",
     "output_type": "stream",
     "text": [
      "(1400, 3)\n",
      "(3, 1400)\n",
      "<class 'numpy.ndarray'>\n"
     ]
    }
   ],
   "source": [
    "# LHS Grid\n",
    "AllParams = np.vstack([h, ombh2, omch2])\n",
    "lhd = pyDOE.lhs(n_params, samples=n_samples, criterion=None)\n",
    "index = (lhd*n_samples).astype(int)\n",
    "\n",
    "AllCombs = np.zeros((n_samples, n_params))\n",
    "for i in range(n_params):\n",
    "    AllCombs[:, i] = AllParams[i][index[:, i]]\n",
    "    \n",
    "print(np.shape(AllCombs))\n",
    "print(np.shape(AllParams))\n",
    "print(type(AllParams))"
   ]
  },
  {
   "cell_type": "code",
   "execution_count": 5,
   "id": "29cf86a9",
   "metadata": {},
   "outputs": [],
   "source": [
    "params = {'h': AllCombs[:, 0],\n",
    "          'omega_b': AllCombs[:, 1],\n",
    "          'omega_cdm': AllCombs[:, 2],\n",
    "}"
   ]
  },
  {
   "cell_type": "code",
   "execution_count": 6,
   "id": "0ab1646a",
   "metadata": {},
   "outputs": [
    {
     "name": "stdout",
     "output_type": "stream",
     "text": [
      "(1400,)\n"
     ]
    }
   ],
   "source": [
    "print(np.shape(params['h']))"
   ]
  },
  {
   "cell_type": "code",
   "execution_count": 7,
   "id": "38a0d53f",
   "metadata": {},
   "outputs": [
    {
     "data": {
      "text/plain": [
       "4200"
      ]
     },
     "execution_count": 7,
     "metadata": {},
     "output_type": "execute_result"
    }
   ],
   "source": [
    "np.size(AllCombs)                                                                   # 'n_samples' pts for 'n_params' parameters"
   ]
  },
  {
   "cell_type": "code",
   "execution_count": 8,
   "id": "37c03d28",
   "metadata": {},
   "outputs": [
    {
     "data": {
      "text/plain": [
       "dict"
      ]
     },
     "execution_count": 8,
     "metadata": {},
     "output_type": "execute_result"
    }
   ],
   "source": [
    "type(params)"
   ]
  },
  {
   "cell_type": "code",
   "execution_count": 9,
   "id": "eb71cf9a",
   "metadata": {},
   "outputs": [],
   "source": [
    "np.savez('LHS_params_3dim.npz', **params)                  # Save several arrays into a single file in uncompressed .npz format."
   ]
  },
  {
   "cell_type": "code",
   "execution_count": 10,
   "id": "fcf9f1ae",
   "metadata": {},
   "outputs": [
    {
     "name": "stdout",
     "output_type": "stream",
     "text": [
      "[0.73345247 0.64790565 0.65877055 ... 0.62274482 0.62171551 0.75358113]\n",
      "[0.02282845 0.02045175 0.01920086 ... 0.01969121 0.02405933 0.02110722]\n",
      "[0.21926376 0.05557541 0.10360972 ... 0.13506076 0.05271623 0.05471766]\n",
      "(1400,)\n"
     ]
    }
   ],
   "source": [
    "print(params['h'])\n",
    "print(params['omega_b'])\n",
    "print(params['omega_cdm'])\n",
    "print(np.shape(params['h']))"
   ]
  },
  {
   "cell_type": "code",
   "execution_count": 11,
   "id": "3fd7bf0e",
   "metadata": {},
   "outputs": [
    {
     "name": "stdout",
     "output_type": "stream",
     "text": [
      "[[0.62       0.62011437 0.62022873 ... 0.77977127 0.77988563 0.78      ]\n",
      " [0.018      0.018005   0.01801001 ... 0.02498999 0.024995   0.025     ]\n",
      " [0.05       0.05014296 0.05028592 ... 0.24971408 0.24985704 0.25      ]]\n",
      "(3, 1400)\n",
      "(1400, 3)\n"
     ]
    }
   ],
   "source": [
    "print(AllParams)\n",
    "print(np.shape(AllParams))\n",
    "AllParams_tran = np.transpose(AllParams)\n",
    "print(np.shape(AllParams_tran))"
   ]
  },
  {
   "cell_type": "code",
   "execution_count": 12,
   "id": "79bd04d2",
   "metadata": {},
   "outputs": [
    {
     "name": "stderr",
     "output_type": "stream",
     "text": [
      "WARNING:root:Too few points to create valid contours\n",
      "WARNING:root:Too few points to create valid contours\n",
      "WARNING:root:Too few points to create valid contours\n"
     ]
    },
    {
     "data": {
      "image/png": "[encoded data removed]",
      "text/plain": [
       "<Figure size 547.2x547.2 with 9 Axes>"
      ]
     },
     "metadata": {
      "needs_background": "light"
     },
     "output_type": "display_data"
    }
   ],
   "source": [
    "# Plot it.\n",
    "figure = corner.corner(AllParams_tran, labels=[r\"$h$\", r\"$\\Omega_{\\mathrm{b}}$\", r\"$\\Omega_{\\mathrm{c}}$\"],\n",
    "                       quantiles=[0.16, 0.5, 0.84],\n",
    "                       show_titles=True, title_kwargs={\"fontsize\": 12})"
   ]
  }
 ],
 "metadata": {
  "kernelspec": {
   "display_name": "Python 3 (ipykernel)",
   "language": "python",
   "name": "python3"
  },
  "language_info": {
   "codemirror_mode": {
    "name": "ipython",
    "version": 3
   },
   "file_extension": ".py",
   "mimetype": "text/x-python",
   "name": "python",
   "nbconvert_exporter": "python",
   "pygments_lexer": "ipython3",
   "version": "3.9.6"
  }
 },
 "nbformat": 4,
 "nbformat_minor": 5
}
