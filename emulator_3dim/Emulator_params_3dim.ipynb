{
 "cells": [
  {
   "cell_type": "code",
   "execution_count": 10,
   "id": "21582fa6",
   "metadata": {},
   "outputs": [],
   "source": [
    "import numpy as np\n",
    "import sys\n",
    "import pyDOE as pyDOE\n",
    "import corner\n",
    "from sympy import symbols, Eq"
   ]
  },
  {
   "cell_type": "code",
   "execution_count": 11,
   "id": "7515f41f",
   "metadata": {},
   "outputs": [],
   "source": [
    "# Parameters\n",
    "n_params = 3\n",
    "n_samples = 5000\n",
    "\n",
    "# parameter ranges:\n",
    "h = np.linspace(0.64, 0.80, n_samples)\n",
    "ombh2 = np.linspace(0.0180, 0.0250, n_samples)\n",
    "omch2 = np.linspace(0.050, 0.250, n_samples)"
   ]
  },
  {
   "cell_type": "code",
   "execution_count": 12,
   "id": "89a8d0d4",
   "metadata": {},
   "outputs": [
    {
     "name": "stdout",
     "output_type": "stream",
     "text": [
      "(5000, 3)\n",
      "(3, 5000)\n",
      "<class 'numpy.ndarray'>\n"
     ]
    }
   ],
   "source": [
    "# LHS Grid\n",
    "AllParams = np.vstack([h, ombh2, omch2])\n",
    "lhd = pyDOE.lhs(n_params, samples=n_samples, criterion=None)      # np.array,scales all the variable ranges from zero to one \n",
    "index = (lhd*n_samples).astype(int)                               # array of random indices, size of n_samples\n",
    "\n",
    "AllCombs = np.zeros((n_samples, n_params))\n",
    "for i in range(n_params):\n",
    "    AllCombs[:, i] = AllParams[i][index[:, i]]\n",
    "    \n",
    "print(np.shape(AllCombs))\n",
    "print(np.shape(AllParams))\n",
    "print(type(AllParams))"
   ]
  },
  {
   "cell_type": "code",
   "execution_count": 13,
   "id": "29cf86a9",
   "metadata": {},
   "outputs": [],
   "source": [
    "params = {'h': AllCombs[:, 0],\n",
    "          'omega_b': AllCombs[:, 1],\n",
    "          'omega_cdm': AllCombs[:, 2],\n",
    "}"
   ]
  },
  {
   "cell_type": "code",
   "execution_count": 14,
   "id": "0ab1646a",
   "metadata": {},
   "outputs": [
    {
     "name": "stdout",
     "output_type": "stream",
     "text": [
      "(5000,)\n",
      "15000\n",
      "<class 'dict'>\n"
     ]
    }
   ],
   "source": [
    "print(np.shape(params['h']))\n",
    "print(np.size(AllCombs))\n",
    "print(type(params))"
   ]
  },
  {
   "cell_type": "code",
   "execution_count": 15,
   "id": "eb71cf9a",
   "metadata": {},
   "outputs": [],
   "source": [
    "np.savez('LHS_params_3dim5000.npz', **params)       # Save several arrays into a single file in uncompressed .npz format."
   ]
  },
  {
   "cell_type": "code",
   "execution_count": 16,
   "id": "fcf9f1ae",
   "metadata": {},
   "outputs": [
    {
     "name": "stdout",
     "output_type": "stream",
     "text": [
      "[0.7015163  0.64307261 0.66784557 ... 0.7594799  0.69361072 0.65366673]\n",
      "[0.02092098 0.01833747 0.01811342 ... 0.02331406 0.0210078  0.02242208]\n",
      "[0.17426485 0.16678336 0.12237447 ... 0.09276855 0.05224045 0.18358672]\n",
      "(5000,)\n"
     ]
    }
   ],
   "source": [
    "print(params['h'])\n",
    "print(params['omega_b'])\n",
    "print(params['omega_cdm'])\n",
    "print(np.shape(params['h']))"
   ]
  },
  {
   "cell_type": "code",
   "execution_count": 17,
   "id": "3fd7bf0e",
   "metadata": {},
   "outputs": [
    {
     "name": "stdout",
     "output_type": "stream",
     "text": [
      "[[0.64       0.64003201 0.64006401 ... 0.79993599 0.79996799 0.8       ]\n",
      " [0.018      0.0180014  0.0180028  ... 0.0249972  0.0249986  0.025     ]\n",
      " [0.05       0.05004001 0.05008002 ... 0.24991998 0.24995999 0.25      ]]\n",
      "(3, 5000)\n",
      "(5000, 3)\n"
     ]
    }
   ],
   "source": [
    "print(AllParams)\n",
    "print(np.shape(AllParams))\n",
    "AllParams_tran = np.transpose(AllParams)\n",
    "print(np.shape(AllParams_tran))"
   ]
  },
  {
   "cell_type": "code",
   "execution_count": 18,
   "id": "79bd04d2",
   "metadata": {},
   "outputs": [
    {
     "name": "stderr",
     "output_type": "stream",
     "text": [
      "WARNING:root:Too few points to create valid contours\n",
      "WARNING:root:Too few points to create valid contours\n",
      "WARNING:root:Too few points to create valid contours\n"
     ]
    },
    {
     "data": {
      "image/png": "[encoded data removed]",
      "text/plain": [
       "<Figure size 547.2x547.2 with 9 Axes>"
      ]
     },
     "metadata": {
      "needs_background": "light"
     },
     "output_type": "display_data"
    }
   ],
   "source": [
    "# Plot it.\n",
    "figure = corner.corner(AllParams_tran, labels=[r\"$h$\", r\"$\\Omega_{\\mathrm{b}}$\", r\"$\\Omega_{\\mathrm{c}}$\"],\n",
    "                       quantiles=[0.16, 0.5, 0.84],\n",
    "                       show_titles=True, title_kwargs={\"fontsize\": 12})"
   ]
  }
 ],
 "metadata": {
  "kernelspec": {
   "display_name": "Python 3 (ipykernel)",
   "language": "python",
   "name": "python3"
  },
  "language_info": {
   "codemirror_mode": {
    "name": "ipython",
    "version": 3
   },
   "file_extension": ".py",
   "mimetype": "text/x-python",
   "name": "python",
   "nbconvert_exporter": "python",
   "pygments_lexer": "ipython3",
   "version": "3.9.6"
  }
 },
 "nbformat": 4,
 "nbformat_minor": 5
}
