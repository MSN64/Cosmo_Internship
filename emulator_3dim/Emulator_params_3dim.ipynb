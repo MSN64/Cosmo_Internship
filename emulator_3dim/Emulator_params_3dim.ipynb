{
 "cells": [
  {
   "cell_type": "code",
   "execution_count": 25,
   "id": "21582fa6",
   "metadata": {},
   "outputs": [],
   "source": [
    "import numpy as np\n",
    "import sys\n",
    "import pyDOE as pyDOE\n",
    "from sympy import symbols, Eq"
   ]
  },
  {
   "cell_type": "markdown",
   "id": "8a0bc8b9",
   "metadata": {},
   "source": [
    "data = np.load('training_cosmologies.npy')\n",
    "print(data)\n",
    "params = []"
   ]
  },
  {
   "cell_type": "markdown",
   "id": "454457d2",
   "metadata": {},
   "source": [
    "cos_params = np.zeros(7)\n",
    "\n",
    "cos_params[0] = params['omega_b'] #Omega_b*h^2\n",
    "cos_params[1] = params['omega_cdm'] #Omega_cdm*h^2\n",
    "cos_params[2] = params['w0']\n",
    "cos_params[3] = params['n_s']\n",
    "cos_params[4] = params['ln10As']\n",
    "cos_params[5] = params['H0']\n",
    "cos_params[6] = params['N_eff']\n",
    "cos_params = np.atleast_2d(cos_params)"
   ]
  },
  {
   "cell_type": "code",
   "execution_count": 35,
   "id": "7515f41f",
   "metadata": {},
   "outputs": [],
   "source": [
    "# Parameters\n",
    "n_params = 3\n",
    "n_samples = 500                                         \n",
    "\n",
    "# parameter ranges:\n",
    "h = np.linspace(0.50, 1.0, n_samples)\n",
    "ombh2 = np.linspace(0.0150, 0.0350, n_samples)\n",
    "omch2 = np.linspace(0.050, 0.250, n_samples)\n",
    "#ns = np.linspace(0.6, 1.1, n_samples)\n",
    "#z = np.linspace(0.0, 100.0, n_samples)\n",
    "#lnAs = np.linspace(0.5, 1.0, n_samples)                  # setting As, e.g: pars.InitPower.set_params(As=2e-9, ns=0.965)\n",
    "#w = np.linspace(-1.0, 1.0,  n_samples)                   # eqn of state parameter\n",
    "#omnuh2 = np.linspace(, n_samples)\n",
    "#N_eff =  np.linspace(1.00, 3.00,  n_samples)"
   ]
  },
  {
   "cell_type": "code",
   "execution_count": 36,
   "id": "89a8d0d4",
   "metadata": {},
   "outputs": [],
   "source": [
    "# LHS Grid\n",
    "AllParams = np.vstack([h, ombh2, omch2])\n",
    "lhd = pyDOE.lhs(n_params, samples=n_samples, criterion=None)\n",
    "index = (lhd*n_samples).astype(int)\n",
    "\n",
    "AllCombs = np.zeros((n_samples, n_params))\n",
    "for i in range(n_params):\n",
    "    AllCombs[:, i] = AllParams[i][index[:, i]]\n",
    "    \n",
    "#print(AllCombs)"
   ]
  },
  {
   "cell_type": "code",
   "execution_count": 37,
   "id": "29cf86a9",
   "metadata": {},
   "outputs": [],
   "source": [
    "params = {'h': AllCombs[:, 0],\n",
    "          'omega_b': AllCombs[:, 1],\n",
    "          'omega_cdm': AllCombs[:, 2],\n",
    "}"
   ]
  },
  {
   "cell_type": "code",
   "execution_count": 42,
   "id": "0ab1646a",
   "metadata": {},
   "outputs": [
    {
     "name": "stdout",
     "output_type": "stream",
     "text": [
      "(500,)\n"
     ]
    }
   ],
   "source": [
    "print(np.shape(params['h']))"
   ]
  },
  {
   "cell_type": "code",
   "execution_count": 38,
   "id": "38a0d53f",
   "metadata": {},
   "outputs": [
    {
     "data": {
      "text/plain": [
       "1500"
      ]
     },
     "execution_count": 38,
     "metadata": {},
     "output_type": "execute_result"
    }
   ],
   "source": [
    "np.size(AllCombs)                                                                   # 'n_samples' pts for 'n_params' parameters"
   ]
  },
  {
   "cell_type": "code",
   "execution_count": 43,
   "id": "37c03d28",
   "metadata": {},
   "outputs": [
    {
     "data": {
      "text/plain": [
       "dict"
      ]
     },
     "execution_count": 43,
     "metadata": {},
     "output_type": "execute_result"
    }
   ],
   "source": [
    "type(params)"
   ]
  },
  {
   "cell_type": "code",
   "execution_count": 45,
   "id": "eb71cf9a",
   "metadata": {},
   "outputs": [],
   "source": [
    "np.savez('LHS_params_3dim.npz', **params)                  # Save several arrays into a single file in uncompressed .npz format."
   ]
  },
  {
   "cell_type": "code",
   "execution_count": 29,
   "id": "83c8ccb0",
   "metadata": {},
   "outputs": [
    {
     "name": "stdout",
     "output_type": "stream",
     "text": [
      "$H_{0}, \\Omega_{b}, \\Omega_{\\mathrm{cdm}}$1 2 3\n",
      "\n",
      "\n",
      "list:  ['1', '2', '3']\n"
     ]
    }
   ],
   "source": [
    "input_cosmo_val = input(r'$H_{0}, \\Omega_{b}, \\Omega_{\\mathrm{cdm}}$')\n",
    "print(\"\\n\")\n",
    "user_list = input_cosmo_val.split()\n",
    "# print list\n",
    "print('list: ', user_list)\n",
    "\n",
    "# convert each item to int type\n",
    "for i in range(len(user_list)):\n",
    "    # convert each item to int type\n",
    "    user_list[i] = int(user_list[i])\n",
    "\n",
    "cosmo_arr = np.array(user_list) "
   ]
  },
  {
   "cell_type": "code",
   "execution_count": null,
   "id": "4a33e446",
   "metadata": {},
   "outputs": [],
   "source": []
  }
 ],
 "metadata": {
  "kernelspec": {
   "display_name": "Python 3 (ipykernel)",
   "language": "python",
   "name": "python3"
  },
  "language_info": {
   "codemirror_mode": {
    "name": "ipython",
    "version": 3
   },
   "file_extension": ".py",
   "mimetype": "text/x-python",
   "name": "python",
   "nbconvert_exporter": "python",
   "pygments_lexer": "ipython3",
   "version": "3.9.6"
  }
 },
 "nbformat": 4,
 "nbformat_minor": 5
}
